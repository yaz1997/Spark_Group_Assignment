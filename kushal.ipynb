{
 "cells": [
  {
   "cell_type": "markdown",
   "metadata": {},
   "source": [
    "## Initializing everything firstly"
   ]
  },
  {
   "cell_type": "code",
   "execution_count": 1,
   "metadata": {},
   "outputs": [],
   "source": [
    "from pyspark.sql import SparkSession"
   ]
  },
  {
   "cell_type": "code",
   "execution_count": 2,
   "metadata": {},
   "outputs": [
    {
     "name": "stderr",
     "output_type": "stream",
     "text": [
      "23/09/06 12:50:52 WARN Utils: Your hostname, kushal-Latitude-E5440 resolves to a loopback address: 127.0.1.1; using 172.16.5.134 instead (on interface wlp2s0)\n",
      "23/09/06 12:50:52 WARN Utils: Set SPARK_LOCAL_IP if you need to bind to another address\n",
      "Setting default log level to \"WARN\".\n",
      "To adjust logging level use sc.setLogLevel(newLevel). For SparkR, use setLogLevel(newLevel).\n",
      "23/09/06 12:50:53 WARN NativeCodeLoader: Unable to load native-hadoop library for your platform... using builtin-java classes where applicable\n"
     ]
    }
   ],
   "source": [
    "# Initialize a Spark session\n",
    "spark = SparkSession.builder.appName(\"DataTransformation\").getOrCreate()"
   ]
  },
  {
   "cell_type": "code",
   "execution_count": 3,
   "metadata": {},
   "outputs": [
    {
     "name": "stderr",
     "output_type": "stream",
     "text": [
      "                                                                                \r"
     ]
    }
   ],
   "source": [
    "#loading dataframes with clean data\n",
    "listing_clean = spark.read.csv('cleaned_data/clean_listing_csv/', header=True, inferSchema=True)\n",
    "reviews_clean = spark.read.csv('cleaned_data/clean_reviews_csv/', header=True, inferSchema=True)\n",
    "calendar_clean = spark.read.csv('cleaned_data/clean0_calendar_csv/', header=True, inferSchema=True)"
   ]
  },
  {
   "cell_type": "markdown",
   "metadata": {},
   "source": [
    "## UDF Problem: Create a UDF to perform sentiment analysis on the review comments and categorize them as positive, neutral, or negative. Apply this UDF to reviews_df to analyze the sentiment of reviews."
   ]
  },
  {
   "cell_type": "code",
   "execution_count": 5,
   "metadata": {},
   "outputs": [],
   "source": [
    "from pyspark.sql.functions import udf\n",
    "from pyspark.sql.types import StringType\n",
    "from textblob import TextBlob"
   ]
  },
  {
   "cell_type": "code",
   "execution_count": 6,
   "metadata": {},
   "outputs": [],
   "source": [
    "# Define a function to perform sentiment analysis using TextBlob\n",
    "def analyze_sentiment(comment):\n",
    "    analysis = TextBlob(comment)\n",
    "    # Classify sentiment as positive, neutral, or negative based on polarity\n",
    "    if analysis.sentiment.polarity > 0:\n",
    "        return \"positive\"\n",
    "    elif analysis.sentiment.polarity == 0:\n",
    "        return \"neutral\"\n",
    "    else:\n",
    "        return \"negative\"\n",
    "\n",
    "# Register the UDF\n",
    "sentiment_analysis_udf = udf(analyze_sentiment, StringType())"
   ]
  },
  {
   "cell_type": "code",
   "execution_count": 7,
   "metadata": {},
   "outputs": [],
   "source": [
    "from pyspark.sql.functions import col\n",
    "\n",
    "reviews_sentiment = reviews_clean.withColumn(\"sentiment\", sentiment_analysis_udf(col(\"comments\")))"
   ]
  },
  {
   "cell_type": "code",
   "execution_count": 8,
   "metadata": {},
   "outputs": [
    {
     "name": "stderr",
     "output_type": "stream",
     "text": [
      "[Stage 6:>                                                          (0 + 1) / 1]\r"
     ]
    },
    {
     "name": "stdout",
     "output_type": "stream",
     "text": [
      "+----------+--------+----------+-----------+-------------+------------------------------------------------------------------------------------------------------------------------------------------------------------------------------------------------------------------------------------------------------------------------------------------------------------------------------------------------------------------------------------------------------------------------------------------------------------------------------------------------------------------------------------------------------------------------------------------------------------------------------------------------------------------------------------------------------------------------------------------------------------------------------------------------------------------------------------------------------------------------------------------------------------------------------------------------------------------------------------------------------------------------------------------------------------------------------------------------------------------------------------------------------------------------------------------------------------------------------------------------------------------------------------------------------------------------------------------------------------------------------------------------------------------------------------------------------------------------------------------------------------------------------------------------------------------------------------------------------------------------------------------------------------------------------------------------------------------------------------+---------+\n",
      "|listing_id|id      |date      |reviewer_id|reviewer_name|comments                                                                                                                                                                                                                                                                                                                                                                                                                                                                                                                                                                                                                                                                                                                                                                                                                                                                                                                                                                                                                                                                                                                                                                                                                                                                                                                                                                                                                                                                                                                                                                                                                                                                                                                            |sentiment|\n",
      "+----------+--------+----------+-----------+-------------+------------------------------------------------------------------------------------------------------------------------------------------------------------------------------------------------------------------------------------------------------------------------------------------------------------------------------------------------------------------------------------------------------------------------------------------------------------------------------------------------------------------------------------------------------------------------------------------------------------------------------------------------------------------------------------------------------------------------------------------------------------------------------------------------------------------------------------------------------------------------------------------------------------------------------------------------------------------------------------------------------------------------------------------------------------------------------------------------------------------------------------------------------------------------------------------------------------------------------------------------------------------------------------------------------------------------------------------------------------------------------------------------------------------------------------------------------------------------------------------------------------------------------------------------------------------------------------------------------------------------------------------------------------------------------------------------------------------------------------+---------+\n",
      "|1178162   |4724140 |2013-05-21|4298113    |Olivier      |My stay at islam's place was really cool! Good location, 5min away from subway, then 10min from downtown. The room was nice, all place was clean. Islam managed pretty well our arrival, even if it was last minute ;) i do recommand this place to any airbnb user :)                                                                                                                                                                                                                                                                                                                                                                                                                                                                                                                                                                                                                                                                                                                                                                                                                                                                                                                                                                                                                                                                                                                                                                                                                                                                                                                                                                                                                                                              |positive |\n",
      "|1178162   |4869189 |2013-05-29|6452964    |Charlotte    |Great location for both airport and city - great amenities in the house: Plus Islam was always very helpful even though he was away                                                                                                                                                                                                                                                                                                                                                                                                                                                                                                                                                                                                                                                                                                                                                                                                                                                                                                                                                                                                                                                                                                                                                                                                                                                                                                                                                                                                                                                                                                                                                                                                 |positive |\n",
      "|1178162   |5003196 |2013-06-06|6449554    |Sebastian    |We really enjoyed our stay at Islams house. From the outside the house didn't look so inviting but the inside was very nice! Even though Islam himself was not there everything was prepared for our arrival. The airport T Station is only a 5-10 min walk away. The only little issue was that all the people in the house had to share one bathroom. But it was not really a problem and it worked out fine. We would recommend Islams place for a stay in Boston.                                                                                                                                                                                                                                                                                                                                                                                                                                                                                                                                                                                                                                                                                                                                                                                                                                                                                                                                                                                                                                                                                                                                                                                                                                                               |positive |\n",
      "|1178162   |5150351 |2013-06-15|2215611    |Marine       |The room was nice and clean and so were the commodities. Very close to the airport metro station and located in quite safe area. Islam responds very quickly and is very helpful. I would recommend it.                                                                                                                                                                                                                                                                                                                                                                                                                                                                                                                                                                                                                                                                                                                                                                                                                                                                                                                                                                                                                                                                                                                                                                                                                                                                                                                                                                                                                                                                                                                             |positive |\n",
      "|1178162   |5171140 |2013-06-16|6848427    |Andrew       |Great location. Just 5 mins walk from the Airport Station. Good food nearby. Room was simple, clean, just what I was after.                                                                                                                                                                                                                                                                                                                                                                                                                                                                                                                                                                                                                                                                                                                                                                                                                                                                                                                                                                                                                                                                                                                                                                                                                                                                                                                                                                                                                                                                                                                                                                                                         |positive |\n",
      "|1178162   |5198929 |2013-06-17|6663826    |Arndt        |A truely exeptional place to stay. The hosts are amazingly friendly, the rooms are spotless, and there is WiFi. The location is superb: A Latin-American neighborhood close to the airport and just a few subway rides away from downtown. Highly recommened!                                                                                                                                                                                                                                                                                                                                                                                                                                                                                                                                                                                                                                                                                                                                                                                                                                                                                                                                                                                                                                                                                                                                                                                                                                                                                                                                                                                                                                                                       |positive |\n",
      "|1178162   |6702817 |2013-08-21|8099222    |Maurice      |It was a really nice time in Boston - best place to stay over in Boston !! Really nice and helpful hosts - taking there time to explain all the good things to see and how to come there. We had a really nice time in Boston and they had a big part on that. If you want to go out doing sth - just ask them and they may come with you. Really nice and clean house - near to the airport and the subway station ( like 6 minutes away ).   We had a really good time there and can just recommend it to anyone who want to have a comfortable and enjoyable place to stay in Boston for a good price. Thanks a lot.                                                                                                                                                                                                                                                                                                                                                                                                                                                                                                                                                                                                                                                                                                                                                                                                                                                                                                                                                                                                                                                                                                             |positive |\n",
      "|1178162   |6873023 |2013-08-28|7671888    |Elodie       |Islam is a very nice guy ! Attentive, funny, he gave me recommandation and info about boston ( nightlife, places to go and so on)  His flat is clean, tidy and there is a patio which is a real plus!  I DO recommand this, great experience !                                                                                                                                                                                                                                                                                                                                                                                                                                                                                                                                                                                                                                                                                                                                                                                                                                                                                                                                                                                                                                                                                                                                                                                                                                                                                                                                                                                                                                                                                      |positive |\n",
      "|1178162   |7646702 |2013-09-28|8197342    |Arkadiusz    |The place is really well furnished, pleasant and clean. Islam was very helpful, you can feel free to ask him virtually anything and he'll help you. He was fun too, very cool talking to him. Oh, and the place is pretty conveniently located too. Highly recommended.  The neighbourhood might not be the cleanest in Boston (my gf liked Brooklyne much more in that matter), but this is a great location and price for value overall.                                                                                                                                                                                                                                                                                                                                                                                                                                                                                                                                                                                                                                                                                                                                                                                                                                                                                                                                                                                                                                                                                                                                                                                                                                                                                          |positive |\n",
      "|1178162   |8094418 |2013-10-15|9040491    |Matthew      |Our stay at Islam's place was fantastic. We couldn't have asked for a better value on location and amenities. We felt very much at home and comfortable at his place and would be quick to stay with him again if we return to Boston!  Islam was always quick to respond to any questions or concerns we had and very accommodating at every point in our trip! Truly a wonderful place and a lovely host!                                                                                                                                                                                                                                                                                                                                                                                                                                                                                                                                                                                                                                                                                                                                                                                                                                                                                                                                                                                                                                                                                                                                                                                                                                                                                                                         |positive |\n",
      "|1178162   |8174594 |2013-10-19|9101576    |Simona       |Our stay at Islam's was very enjoyable, Islam is a very kind and responsive host. The room was clean and comfortable and the house is provided with all comforts: full kitchen, satellite TV, comfortable living room, excellent WIFI connection in all areas. It is extremely conveniently located to downtown Boston (a few metro stops) and walking distance to the free shuttles connecting to the airport.                                                                                                                                                                                                                                                                                                                                                                                                                                                                                                                                                                                                                                                                                                                                                                                                                                                                                                                                                                                                                                                                                                                                                                                                                                                                                                                     |positive |\n",
      "|1178162   |8226316 |2013-10-21|884407     |Laurent      |Communication with Islam and his brother was good. However, we arrived at their house and the toilet was completely plugged up and full of excrements. At this point, we were totally disgusted. We went out to town, which by train takes about 15mn plus 10mn walk to the station. We managed to speak with Islam brother. He fixed the problem when we came back by 4pm.   The house is basic with thin walls and the bedrooms are minimum comfort. We were supposed to be on the basement, which I really don't recommend. Bad smell and the bed is for one person rather than two. We stayed in the upper room, as we though we were there. Nobody in the house except from one guest staying also in the upper level.   Islam sent us an email during our stay, which we couldn't see as we didn't have a computer with us or the use of our smartphone. However, he told us to stay in the basement while no booking was made for the upper room. Not sure why he wanted us to stay in the basement where the room and bed were very basic, when he could have told us to stay in the room upstairs!  The fact that the owner wasn't there made it a strange feeling. The back door in the kitchen were not locked at all, while our luggage was in the house. We didn't got told at all. We had to put a bar across to kinda off close the sliding door but felt very unsafe as anybody could have walking in easily or made their way in.  All in all, things went fine by the end but we definitely not recommend the place unless the owner is there. If you are looking for a cheap place to stay and don't mind of those inconvenience, then you will like it.  A part from that Boston is a great city and we had fun!|positive |\n",
      "|1178162   |8372308 |2013-10-28|8837991    |Olga Maria   |Mi estadía en Boston aunque corta fue muy buena, la habitación excelente, muy limpia y ordenada, no tuve ningún inconveniente dentro de la casa. Si vuelvo a Boston volveré a buscarlos. Gracias!!                                                                                                                                                                                                                                                                                                                                                                                                                                                                                                                                                                                                                                                                                                                                                                                                                                                                                                                                                                                                                                                                                                                                                                                                                                                                                                                                                                                                                                                                                                                                  |neutral  |\n",
      "|1178162   |8414572 |2013-10-29|478275     |Kat          |Well sized room for two people with the basic necessities which also included a mini fridge. Our room, the common areas and bathrooms were clean when we arrived. There were good kitchen facilities but we did not have to use them.   Overall good value for a location that is close enough to downtown Boston.                                                                                                                                                                                                                                                                                                                                                                                                                                                                                                                                                                                                                                                                                                                                                                                                                                                                                                                                                                                                                                                                                                                                                                                                                                                                                                                                                                                                                  |positive |\n",
      "|1178162   |8523707 |2013-11-04|8824032    |Ivan         |GREAT SPACE, PERFECT LOCATION, AWESOME PEOPLE!! Definately will be back!!!!                                                                                                                                                                                                                                                                                                                                                                                                                                                                                                                                                                                                                                                                                                                                                                                                                                                                                                                                                                                                                                                                                                                                                                                                                                                                                                                                                                                                                                                                                                                                                                                                                                                         |positive |\n",
      "|1178162   |11069185|2014-03-18|10454265   |Jeffrey      |The room was exactly as pictured, no frills, yet adequate for my needs. The street parking was nearly impossible to find,  but you can't expect much better in Boston. I'd recommend this room to others...                                                                                                                                                                                                                                                                                                                                                                                                                                                                                                                                                                                                                                                                                                                                                                                                                                                                                                                                                                                                                                                                                                                                                                                                                                                                                                                                                                                                                                                                                                                         |positive |\n",
      "|1178162   |11159232|2014-03-23|9798322    |Alexander    |The room was clean and very comfortable. Having a key for this room also made it very safe. Getting to downtown is also very easy and fast. The whole is also very nice from the inside offering everything needed. I would definetly come back!                                                                                                                                                                                                                                                                                                                                                                                                                                                                                                                                                                                                                                                                                                                                                                                                                                                                                                                                                                                                                                                                                                                                                                                                                                                                                                                                                                                                                                                                                    |positive |\n",
      "|1178162   |11420562|2014-04-01|6097987    |Karthikram   |Izzy was great... had clear instructions and no problems entering the house... the neighborhood wasn't great though.                                                                                                                                                                                                                                                                                                                                                                                                                                                                                                                                                                                                                                                                                                                                                                                                                                                                                                                                                                                                                                                                                                                                                                                                                                                                                                                                                                                                                                                                                                                                                                                                                |positive |\n",
      "|1178162   |11696317|2014-04-12|13599868   |Paola        |The place was really good, it is like 10 minutes from the airport so it was  perfect for me because i had a connection flight, the taxi will cost u max 15 dolars and if you go by shuttle is free, the house is very clean and the room was very confortable. The only thing is that i arrive and the owner wasnt there and i didnt read the instructions where he told me how to get in the house so i was waiting for about an hour, but if you read the instructions everything will be fine.                                                                                                                                                                                                                                                                                                                                                                                                                                                                                                                                                                                                                                                                                                                                                                                                                                                                                                                                                                                                                                                                                                                                                                                                                                   |positive |\n",
      "|1178162   |11766427|2014-04-14|5064941    |Joe          |The host wasn't there, but it was fine. He left clear instructions, and we spent 2 good nights there. It was a room was in a shared house, where there happened to be some interesting people staying, so we got to chat with some awesome people. The neighborhood is ok, had some good Colombian food.                                                                                                                                                                                                                                                                                                                                                                                                                                                                                                                                                                                                                                                                                                                                                                                                                                                                                                                                                                                                                                                                                                                                                                                                                                                                                                                                                                                                                            |positive |\n",
      "|1178162   |11901870|2014-04-18|578962     |Samir        |Izzy was a nice and helpful host with detailed directions. The room is in the basement and even though Izzy mentions it we somehow missed that detail and it has narrow stairs leading down to it which made it hard for us to carry our bags up and down. We are unfortunately traveling with really heavy bags. The place is in East Boston and is extremely convenient for the airport.                                                                                                                                                                                                                                                                                                                                                                                                                                                                                                                                                                                                                                                                                                                                                                                                                                                                                                                                                                                                                                                                                                                                                                                                                                                                                                                                          |negative |\n",
      "|1178162   |12116711|2014-04-23|5051049    |Oliver       |We arrived late from the airport, so the location was very convenient, just a 5 min walk from the airport T station. Check-in was quick and easy and the room as described. It's also very close to downtown Boston. We had a perfect stay and would definitely stay there again.                                                                                                                                                                                                                                                                                                                                                                                                                                                                                                                                                                                                                                                                                                                                                                                                                                                                                                                                                                                                                                                                                                                                                                                                                                                                                                                                                                                                                                                   |positive |\n",
      "|1178162   |12168229|2014-04-24|14421460   |Ron          |Izzy was quick to reply to our request, and provided thorough instructions related to finding and entering the home. We loved the convenience of the location near the airport, as we weren't familiar with Boston, and landed late at night, so we didn't want to have to travel far or follow complicated directions to find the place. Although we never had any face-to-face contact with Izzy or anyone else in the home during our brief overnight stay, we felt comfortable there. Although we were assured that the neighborhood was safe, we were still feeling a bit on edge walking late at night from the Airport \"T\" station. Nonetheless, we made our way there without incident, and had a restful night of sleep before launching out the next day. Thanks, Izzy!                                                                                                                                                                                                                                                                                                                                                                                                                                                                                                                                                                                                                                                                                                                                                                                                                                                                                                                                                   |positive |\n",
      "|1178162   |12243132|2014-04-27|10018866   |Crystal      |Everything is exactly as posted! super convenient + easy to find.                                                                                                                                                                                                                                                                                                                                                                                                                                                                                                                                                                                                                                                                                                                                                                                                                                                                                                                                                                                                                                                                                                                                                                                                                                                                                                                                                                                                                                                                                                                                                                                                                                                                   |positive |\n",
      "|1178162   |12753057|2014-05-10|14113353   |Chris        |We didn´t meet Izzy at all!!!! After we arrived nobody was there except some spanish speaking people. Our room was disgusting!!! It smelted like mold and was very dirty!!!! The Bathroom wasn´t cleaned either and my friend and i wanted to leave right after we came… The Dryer or washer was not usable because the assistant from Izzy washed all the time. The Neighborhood is not safe at all and every other morning u could hear people fight. Don´t stay there!!!!!! It´s nothing like u would expect it!  And it´s defenetly to expensive for this nasty place!!!!                                                                                                                                                                                                                                                                                                                                                                                                                                                                                                                                                                                                                                                                                                                                                                                                                                                                                                                                                                                                                                                                                                                                                       |negative |\n",
      "|1178162   |13186169|2014-05-21|14192408   |Alex         |I didn't get a chance to meet Izzy but I thought the system that was set up was really well done. Things went quite smoothly upon arrival as per the detailed instructions that were left.   We managed to get the key from the lock box easily which was nice because it provided flexibility for whatever time we arrived. This place is extremely close to the airport. I've never stayed next door to the airport before. Less than a 5 min ride to Airport Station which was then a 5 min walk.  Place had everything. Felt very homely like staying at a friends. Location was amazing!! East Boston has some hidden gem restaurants and proximity to Airport subway station was key. No complaints about the room or bathroom.  Great setup Izzy!                                                                                                                                                                                                                                                                                                                                                                                                                                                                                                                                                                                                                                                                                                                                                                                                                                                                                                                                                                            |positive |\n",
      "|1178162   |13514415|2014-05-29|14007556   |Ósk          |Izzy's assistant was a nice and helpful person. We stayed 7 days, kitchen had everything one needs to make good food even a mixer! Our room was in the cellar and therefore very private. One fight next door where we heard screaming and shouting but overall a very calm neighbourhood and friendly people.                                                                                                                                                                                                                                                                                                                                                                                                                                                                                                                                                                                                                                                                                                                                                                                                                                                                                                                                                                                                                                                                                                                                                                                                                                                                                                                                                                                                                      |positive |\n",
      "|1178162   |13586652|2014-05-31|419353     |Phillip      |Host wasn't there, but instructions were clear to find and get in the place. Convenient location and a decent neighborhood (safe but a bit run-down and not much around). The room was basic but had everything I needed.                                                                                                                                                                                                                                                                                                                                                                                                                                                                                                                                                                                                                                                                                                                                                                                                                                                                                                                                                                                                                                                                                                                                                                                                                                                                                                                                                                                                                                                                                                           |positive |\n",
      "|1178162   |13801287|2014-06-04|1636024    |Fukuko       |Izzy's place was very convenient for getting to the airport. The room was cosy and clean. I was impressed with the tea selections. Izzy's friend was helpful and friendly. Definitely will come back when we have to fly out from Boston again!                                                                                                                                                                                                                                                                                                                                                                                                                                                                                                                                                                                                                                                                                                                                                                                                                                                                                                                                                                                                                                                                                                                                                                                                                                                                                                                                                                                                                                                                                     |positive |\n",
      "|1178162   |14000401|2014-06-09|16307906   |Amber        |Well we were kind of annoyed to be honest. We chose the most expensive room in the house because we were meant to be the only ones on the bottom floor, and we were told we would get a computer... Well we had his assistant sleep right outside our door and we did not have a computer.  On top of that, every room had a TV but ours, and the tv in the living room did not get basic channels which frustrated us.   The house was a mess up until the day we left, because izzy was apparently coming home that day, so his assistant decided to clean up. It was a totally different house upon checkout.  His assistant was lovely, just not much help... As far as The location goes, it is convenient to downtown and the airport, and has local shops and restaurants close by.  We did enjoy our stay overall there was just more than enough frustrating elements..                                                                                                                                                                                                                                                                                                                                                                                                                                                                                                                                                                                                                                                                                                                                                                                                                                                    |positive |\n",
      "|1178162   |14849457|2014-06-27|17001205   |Sarah        |We never met our host, but they were willing to book the room with little notice.  The room was clean.  There's a little cafe a few blocks up the street that made for a perfect breakfast.  We didn't realize that other people would be staying too, so when they came it was a little spooky until we met them.                                                                                                                                                                                                                                                                                                                                                                                                                                                                                                                                                                                                                                                                                                                                                                                                                                                                                                                                                                                                                                                                                                                                                                                                                                                                                                                                                                                                                  |positive |\n",
      "|1178162   |14934841|2014-06-29|16598717   |New          |It was a great place to stay. Quiet, clean and close to shops, airport and public transportation.  Would recommend and stay here again.                                                                                                                                                                                                                                                                                                                                                                                                                                                                                                                                                                                                                                                                                                                                                                                                                                                                                                                                                                                                                                                                                                                                                                                                                                                                                                                                                                                                                                                                                                                                                                                             |positive |\n",
      "|1178162   |15125674|2014-07-02|13007001   |Ali          |Overall a pleasing experience.  We flew into Boston for one night to go to a concert.  Izzy left straight forward and easy to read instructions on how to reach the flat, and enter.  The room was as pictured, and exactly what we needed for the night. Izzy was readily available to us by phone or text whenever we had any questions. The flat is really close to the airport, and only a small hop into the heart of Boston, it was very convenient for us! :)                                                                                                                                                                                                                                                                                                                                                                                                                                                                                                                                                                                                                                                                                                                                                                                                                                                                                                                                                                                                                                                                                                                                                                                                                                                                |positive |\n",
      "|1178162   |15430473|2014-07-08|13616703   |Cyril        |Boston is one of the best city's I have ever been. Issy's place is good located, and nice.  I would recommend this place for everybody!                                                                                                                                                                                                                                                                                                                                                                                                                                                                                                                                                                                                                                                                                                                                                                                                                                                                                                                                                                                                                                                                                                                                                                                                                                                                                                                                                                                                                                                                                                                                                                                             |positive |\n",
      "|1178162   |15648106|2014-07-13|17376849   |Emily        |Clear directions.  Good neighborhood. Close to t station. Clean room. Quiet. Perfect!                                                                                                                                                                                                                                                                                                                                                                                                                                                                                                                                                                                                                                                                                                                                                                                                                                                                                                                                                                                                                                                                                                                                                                                                                                                                                                                                                                                                                                                                                                                                                                                                                                               |positive |\n",
      "|1178162   |15728913|2014-07-14|11524242   |Mika         |The host actually gave us a place to sleep. It is really simple. Very close to subway was perfect. There have several problems the host needs to improve.                                                                                                                                                                                                                                                                                                                                                                                                                                                                                                                                                                                                                                                                                                                                                                                                                                                                                                                                                                                                                                                                                                                                                                                                                                                                                                                                                                                                                                                                                                                                                                           |positive |\n",
      "|1178162   |15846810|2014-07-16|17826223   |Raija        |OK stay.  Perhaps best for those on the young/adventurous side of the spectrum!  There was a sign that said 'in the process of renovations'.   I think the second floor might be a little noisy some evenings, with 3 rooms up there. The one lower/ground floor room was quieter, but keep in mind not easily accessible with narrow winding stairs. Futon style bed.     The host was prompt with text message responses to questions about parking.  Parking in the neighborhood mid-day was easy but all streets were filled with parked/double parked cars by 5pm.  It was a fairly short walk to the Blue line train line - Airport station.                                                                                                                                                                                                                                                                                                                                                                                                                                                                                                                                                                                                                                                                                                                                                                                                                                                                                                                                                                                                                                                                                  |positive |\n",
      "|1178162   |15895093|2014-07-17|18020631   |Lucas        |Izzy was very helpful with directions and he was easy to get in touch with, as I had some questions.  This is a great location that is a short walk to the airport shuttle.  The room is in the basement and it gets hot during the day.  The house has A/C upstairs, but this does not reach the basement room so it was pretty hot.  The neighborhood a little bit ethnic, which I didn't mind, but if this makes you uncomfortable you might want to look elsewhere.  I felt safe, and the lockbox system is secure.    For a traveler like myself who had an early flight out of Logan, this was the cost effective option.  Can't beat the price for a location so close to the airport!                                                                                                                                                                                                                                                                                                                                                                                                                                                                                                                                                                                                                                                                                                                                                                                                                                                                                                                                                                                                                                       |positive |\n",
      "|1178162   |15982012|2014-07-19|7543714    |Anne-Marie   |This was ok it was easy with clear information on how getting in the house and it was very safe. The host wasn't there during the stay. The neighborhood is not so nice to hang out at night.                                                                                                                                                                                                                                                                                                                                                                                                                                                                                                                                                                                                                                                                                                                                                                                                                                                                                                                                                                                                                                                                                                                                                                                                                                                                                                                                                                                                                                                                                                                                       |positive |\n",
      "|1178162   |16035159|2014-07-20|17287987   |Shu-Ping     |Izzy was out of the town when I stayed there. The location is very close to the airport, and the neighborhood is quiet and friendly.  I enjoyed my stay there and made a reservation for an additional night.                                                                                                                                                                                                                                                                                                                                                                                                                                                                                                                                                                                                                                                                                                                                                                                                                                                                                                                                                                                                                                                                                                                                                                                                                                                                                                                                                                                                                                                                                                                       |positive |\n",
      "|1178162   |16221436|2014-07-23|2420725    |Jessica      |Unfortunately, we can't agree with the many positive reviews. The house was easy to find and just a short 7 minute walk from the T-Station \"Airport\", but not what I would describe as clean. After arrival I started to clean a bit. E.g. the hob in the spacious kitchen, which you can use including all the inventory(and what's perfect for a nice breakfast), was kind of greasy and that didn't change during our three day stay. Sure this isn't a hotel and the guests are responsible for cleanliness as well, but the host takes a cleaning fee. If they would clean the house on a regular basis, it would be a nice accommodation, as we really liked the premises. Our basement room had a little fridge, a mirror, a tv and a luggage stand what we appreciated. Somehow we missed the \"warm welcome\" feeling  we experienced at other airbnb locations.                                                                                                                                                                                                                                                                                                                                                                                                                                                                                                                                                                                                                                                                                                                                                                                                                                                             |positive |\n",
      "|1178162   |16730352|2014-08-01|7012629    |Claudia      |East Boston is very nice place, well connected to the whole city and all services needed at walking distance.  The house is exactly as described, very easy to find and check in, lots of common space and nice environment. Izzy does not living in, but it's not a problem at all! He's very helpful and answered immediately to every need we had. The house is clean, not so much the room in the basement.                                                                                                                                                                                                                                                                                                                                                                                                                                                                                                                                                                                                                                                                                                                                                                                                                                                                                                                                                                                                                                                                                                                                                                                                                                                                                                                     |positive |\n",
      "|1178162   |16789257|2014-08-02|17832793   |Lydia        |We arrived late and left early in the morning but everything was good. Easy to find, good instructions,  comfortable bed.                                                                                                                                                                                                                                                                                                                                                                                                                                                                                                                                                                                                                                                                                                                                                                                                                                                                                                                                                                                                                                                                                                                                                                                                                                                                                                                                                                                                                                                                                                                                                                                                           |positive |\n",
      "|1178162   |17176912|2014-08-08|857238     |Tim & Charlie|Izzy's room is a great value for an airport related stay. The convenience to the airport is even better than it seems in the description.  The room was clean as were sheets and towels.  The room could have benefitted from AC because it was August but Izzy gave us a powerful and quiet fan so we were okay.                                                                                                                                                                                                                                                                                                                                                                                                                                                                                                                                                                                                                                                                                                                                                                                                                                                                                                                                                                                                                                                                                                                                                                                                                                                                                                                                                                                                                   |positive |\n",
      "|1178162   |18437695|2014-08-26|2789022    |Gianluca     |Had a good experience overall. Short and sweet.                                                                                                                                                                                                                                                                                                                                                                                                                                                                                                                                                                                                                                                                                                                                                                                                                                                                                                                                                                                                                                                                                                                                                                                                                                                                                                                                                                                                                                                                                                                                                                                                                                                                                     |positive |\n",
      "|1178162   |18561737|2014-08-28|19310647   |Tamas        |It was a pleasant stay although we didn't meet personally. The room was comfortable, the metro station is close and it is really fast to get into Boston so al together we had a great time there.                                                                                                                                                                                                                                                                                                                                                                                                                                                                                                                                                                                                                                                                                                                                                                                                                                                                                                                                                                                                                                                                                                                                                                                                                                                                                                                                                                                                                                                                                                                                  |positive |\n",
      "|1178162   |18696958|2014-08-30|15346724   |Stephen      |Izzy's home is conveniently located for anyone visiting Boston and we were made to feel very at home. The neighborhood appears sketchy and was uncomfortable to walk through at night. Still an overall positive experience.                                                                                                                                                                                                                                                                                                                                                                                                                                                                                                                                                                                                                                                                                                                                                                                                                                                                                                                                                                                                                                                                                                                                                                                                                                                                                                                                                                                                                                                                                                        |negative |\n",
      "|1178162   |19087737|2014-09-06|13609481   |Sarah        |Izzy's listing was as described, the room was perfect for our short stay at Boston. Although we never got to meet izzy, his brother made us feel more than welcome and helped us with anything we needed. The location was also good for us, only a few minutes from the tracks which took us straight in to Boston.                                                                                                                                                                                                                                                                                                                                                                                                                                                                                                                                                                                                                                                                                                                                                                                                                                                                                                                                                                                                                                                                                                                                                                                                                                                                                                                                                                                                                |positive |\n",
      "|1178162   |19282278|2014-09-09|20036237   |Chris        |It has a quiet, convenient and safe environment.I really enjoy the stay and the talking with our host who is very nice and helpful.                                                                                                                                                                                                                                                                                                                                                                                                                                                                                                                                                                                                                                                                                                                                                                                                                                                                                                                                                                                                                                                                                                                                                                                                                                                                                                                                                                                                                                                                                                                                                                                                 |positive |\n",
      "|1178162   |19617260|2014-09-15|20104957   |Nora         |We had a great Time in Boston! We really enjoyed our stay at Izzys Place. The room was clean and the bed comfortable. There is only one bathroom in the house, but some how the bath wasnt usually blocked. We never had to wait long.  You only Need About 5 Minutes to the t-station and only 3 Station to downtown, which was very nice. We can recommend izzys Place - thank for everything. Nora & Hannah                                                                                                                                                                                                                                                                                                                                                                                                                                                                                                                                                                                                                                                                                                                                                                                                                                                                                                                                                                                                                                                                                                                                                                                                                                                                                                                      |positive |\n",
      "+----------+--------+----------+-----------+-------------+------------------------------------------------------------------------------------------------------------------------------------------------------------------------------------------------------------------------------------------------------------------------------------------------------------------------------------------------------------------------------------------------------------------------------------------------------------------------------------------------------------------------------------------------------------------------------------------------------------------------------------------------------------------------------------------------------------------------------------------------------------------------------------------------------------------------------------------------------------------------------------------------------------------------------------------------------------------------------------------------------------------------------------------------------------------------------------------------------------------------------------------------------------------------------------------------------------------------------------------------------------------------------------------------------------------------------------------------------------------------------------------------------------------------------------------------------------------------------------------------------------------------------------------------------------------------------------------------------------------------------------------------------------------------------------------------------------------------------------+---------+\n",
      "only showing top 50 rows\n",
      "\n"
     ]
    },
    {
     "name": "stderr",
     "output_type": "stream",
     "text": [
      "                                                                                \r"
     ]
    }
   ],
   "source": [
    "reviews_sentiment.show(50, truncate=False)"
   ]
  },
  {
   "cell_type": "markdown",
   "metadata": {},
   "source": [
    "## Section 2: Using groupBy, calculate the total number of reviews left for Boston listings each month. Rename the resulting columns to \"Month\" and \"Total Reviews.\""
   ]
  },
  {
   "cell_type": "code",
   "execution_count": 9,
   "metadata": {},
   "outputs": [],
   "source": [
    "from pyspark.sql.functions import to_date\n",
    "from pyspark.sql.types import DateType\n",
    "\n",
    "# Assuming 'date_string' is in the format 'yyyy-MM-dd'\n",
    "date_format = 'yyyy-MM-dd'\n",
    "\n",
    "# Use the to_date function to convert the string column to a date column\n",
    "reviews_clean_1 = reviews_clean.withColumn(\"date\", to_date(reviews_clean[\"date\"], date_format).cast(DateType()))"
   ]
  },
  {
   "cell_type": "code",
   "execution_count": 10,
   "metadata": {},
   "outputs": [
    {
     "name": "stderr",
     "output_type": "stream",
     "text": [
      "[Stage 7:==============>                                            (1 + 3) / 4]\r"
     ]
    },
    {
     "name": "stdout",
     "output_type": "stream",
     "text": [
      "+-----+-------------+\n",
      "|Month|Total Reviews|\n",
      "+-----+-------------+\n",
      "|    1|         2119|\n",
      "|    2|         1964|\n",
      "|    3|         3853|\n",
      "|    4|         6116|\n",
      "|    5|         8115|\n",
      "|    6|         8369|\n",
      "|    7|         9333|\n",
      "|    8|        10345|\n",
      "|    9|         5985|\n",
      "|   10|         6095|\n",
      "|   11|         3729|\n",
      "|   12|         2252|\n",
      "+-----+-------------+\n",
      "\n"
     ]
    },
    {
     "name": "stderr",
     "output_type": "stream",
     "text": [
      "                                                                                \r"
     ]
    }
   ],
   "source": [
    "from pyspark.sql.functions import month, date_format\n",
    "\n",
    "reviews_U2 = reviews_clean_1.withColumn(\"month\", month(reviews_clean_1[\"date\"]))\n",
    "#reviews_U2 = reviews_U2.withColumn(\"month_name\", date_format(reviews_U2[\"month\"], \"MMM\"))\n",
    "\n",
    "# Group by Month, and count the number of reviews\n",
    "monthly_reviews = reviews_U2.groupBy(\"Month\") \\\n",
    "    .count() \\\n",
    "    .withColumnRenamed(\"count\", \"Total Reviews\") \\\n",
    "    .orderBy(\"Month\")\n",
    "\n",
    "# Show the resulting DataFrame\n",
    "monthly_reviews.show()"
   ]
  },
  {
   "cell_type": "markdown",
   "metadata": {},
   "source": [
    "## Window function : Identify significant popularity changes in Airbnb listings in Boston based on month-to-month booking. "
   ]
  },
  {
   "cell_type": "code",
   "execution_count": 13,
   "metadata": {},
   "outputs": [],
   "source": [
    "from pyspark.sql.window import Window\n",
    "from pyspark.sql.functions import to_date, month, count\n",
    "\n",
    "calendar_window = calendar_clean.withColumn(\"date\", to_date(calendar_clean[\"date\"]))\n",
    "\n",
    "# Calculate the total number of bookings per listing\n",
    "bookings_count = calendar_window.filter(calendar_clean[\"available\"] == False) \\\n",
    "    .groupBy(\"listing_id\") \\\n",
    "    .agg(count(\"listing_id\").alias(\"total_bookings\"))\n",
    "\n",
    "# Calculate the number of bookings per listing for each month\n",
    "bookings_count = calendar_window.filter(calendar_window[\"available\"] == False) \\\n",
    "    .groupBy(\"listing_id\", month(\"date\").alias(\"month\")) \\\n",
    "    .agg(count(\"listing_id\").alias(\"bookings\"))"
   ]
  },
  {
   "cell_type": "code",
   "execution_count": 14,
   "metadata": {},
   "outputs": [
    {
     "name": "stderr",
     "output_type": "stream",
     "text": [
      "[Stage 11:==============>                                           (1 + 3) / 4]\r"
     ]
    },
    {
     "name": "stdout",
     "output_type": "stream",
     "text": [
      "+----------+-----+--------+\n",
      "|listing_id|month|bookings|\n",
      "+----------+-----+--------+\n",
      "|   1436513|   11|      22|\n",
      "|   6400432|   12|      31|\n",
      "|  12426823|    3|      31|\n",
      "|   6862758|   11|      30|\n",
      "|     27611|    5|      31|\n",
      "|   1754939|    3|      31|\n",
      "|   3905508|    4|       5|\n",
      "|   5182313|   10|       2|\n",
      "|  13698137|    1|      31|\n",
      "|  13565466|    4|      30|\n",
      "|  13000520|    8|      31|\n",
      "|   4409653|    6|      30|\n",
      "|  12986892|    3|      31|\n",
      "|   7434871|    7|      31|\n",
      "|  14222649|    4|      30|\n",
      "|  13248823|    4|      30|\n",
      "|  14035943|   12|      31|\n",
      "|    766700|   10|      28|\n",
      "|   3434614|    2|      28|\n",
      "|  14624254|   12|      30|\n",
      "+----------+-----+--------+\n",
      "only showing top 20 rows\n",
      "\n"
     ]
    },
    {
     "name": "stderr",
     "output_type": "stream",
     "text": [
      "                                                                                \r"
     ]
    }
   ],
   "source": [
    "bookings_count.show()"
   ]
  },
  {
   "cell_type": "code",
   "execution_count": 15,
   "metadata": {},
   "outputs": [],
   "source": [
    "from pyspark.sql.functions import lag, when, isnull\n",
    "window_spec = Window.partitionBy(\"listing_id\").orderBy(\"month\")\n",
    "monthly_bookings = bookings_count.withColumn(\"previous_month_bookings\", lag(\"bookings\").over(window_spec))"
   ]
  },
  {
   "cell_type": "code",
   "execution_count": 16,
   "metadata": {},
   "outputs": [],
   "source": [
    "monthly_bookings1 = monthly_bookings.withColumn(\"popularity_change\", when(isnull(monthly_bookings[\"previous_month_bookings\"]), 0)\n",
    "                                                .otherwise(monthly_bookings[\"bookings\"] - monthly_bookings[\"previous_month_bookings\"]))"
   ]
  },
  {
   "cell_type": "code",
   "execution_count": 17,
   "metadata": {},
   "outputs": [
    {
     "name": "stderr",
     "output_type": "stream",
     "text": [
      "[Stage 14:===========================================>              (3 + 1) / 4]\r"
     ]
    },
    {
     "name": "stdout",
     "output_type": "stream",
     "text": [
      "+----------+-----+--------+-----------------------+-----------------+\n",
      "|listing_id|month|bookings|previous_month_bookings|popularity_change|\n",
      "+----------+-----+--------+-----------------------+-----------------+\n",
      "|      3353|   10|      31|                     25|                6|\n",
      "|      3353|   11|      30|                     31|               -1|\n",
      "|      5506|   10|       7|                     14|               -7|\n",
      "|      6695|   10|      18|                     23|               -5|\n",
      "|      6976|   10|       3|                     11|               -8|\n",
      "|      6976|   11|      11|                      3|                8|\n",
      "|      6976|   12|      21|                     11|               10|\n",
      "|      8792|   10|      31|                     25|                6|\n",
      "|      8792|   11|      30|                     31|               -1|\n",
      "|      8792|   12|      31|                     30|                1|\n",
      "|      9824|   10|      11|                     17|               -6|\n",
      "|      9824|   11|      12|                     11|                1|\n",
      "|      9824|   12|       2|                     12|              -10|\n",
      "|      9857|   10|       3|                     15|              -12|\n",
      "|     10730|    2|      28|                     31|               -3|\n",
      "|     10730|    3|      31|                     28|                3|\n",
      "|     10730|    4|      30|                     31|               -1|\n",
      "|     10730|    5|      31|                     30|                1|\n",
      "|     10730|    6|       3|                     31|              -28|\n",
      "|     10730|    9|      25|                      3|               22|\n",
      "+----------+-----+--------+-----------------------+-----------------+\n",
      "only showing top 20 rows\n",
      "\n"
     ]
    },
    {
     "name": "stderr",
     "output_type": "stream",
     "text": [
      "                                                                                \r"
     ]
    }
   ],
   "source": [
    "from pyspark.sql.functions import abs\n",
    "significant_popularity_changes = monthly_bookings1.filter(abs(\"popularity_change\") >= 0.5)\n",
    "significant_popularity_changes.show()"
   ]
  },
  {
   "cell_type": "markdown",
   "metadata": {},
   "source": [
    "## Pivot:You are given two DataFrames: listings_df and calendar_df, containing information about Airbnb listings and their availability in Boston over time. Your task is to analyze the demand for different property types in Boston by calculating the count of bookings for each property type. "
   ]
  },
  {
   "cell_type": "code",
   "execution_count": 18,
   "metadata": {},
   "outputs": [],
   "source": [
    "calendar_cleanp = calendar_clean.filter(calendar_clean[\"available\"]==False)"
   ]
  },
  {
   "cell_type": "code",
   "execution_count": 19,
   "metadata": {},
   "outputs": [
    {
     "name": "stdout",
     "output_type": "stream",
     "text": [
      "+----------+----------+---------+-----+\n",
      "|listing_id|      date|available|price|\n",
      "+----------+----------+---------+-----+\n",
      "|  12147973|2017-09-05|    false| null|\n",
      "|  12147973|2017-09-04|    false| null|\n",
      "|  12147973|2017-09-03|    false| null|\n",
      "|  12147973|2017-09-02|    false| null|\n",
      "|  12147973|2017-09-01|    false| null|\n",
      "|  12147973|2017-08-31|    false| null|\n",
      "|  12147973|2017-08-30|    false| null|\n",
      "|  12147973|2017-08-29|    false| null|\n",
      "|  12147973|2017-08-28|    false| null|\n",
      "|  12147973|2017-08-27|    false| null|\n",
      "|  12147973|2017-08-26|    false| null|\n",
      "|  12147973|2017-08-25|    false| null|\n",
      "|  12147973|2017-08-24|    false| null|\n",
      "|  12147973|2017-08-23|    false| null|\n",
      "|  12147973|2017-08-22|    false| null|\n",
      "|  12147973|2017-08-21|    false| null|\n",
      "|  12147973|2017-08-20|    false| null|\n",
      "|  12147973|2017-08-19|    false| null|\n",
      "|  12147973|2017-08-18|    false| null|\n",
      "|  12147973|2017-08-17|    false| null|\n",
      "+----------+----------+---------+-----+\n",
      "only showing top 20 rows\n",
      "\n"
     ]
    }
   ],
   "source": [
    "calendar_cleanp.show()"
   ]
  },
  {
   "cell_type": "code",
   "execution_count": 20,
   "metadata": {},
   "outputs": [],
   "source": [
    "property_demand = listing_clean.join(calendar_cleanp, listing_clean[\"id\"] == calendar_cleanp[\"listing_id\"]) \\\n",
    "    .groupBy(\"property_type\") \\\n",
    "    .agg(count(\"listing_id\").alias(\"booking_count\"))"
   ]
  },
  {
   "cell_type": "code",
   "execution_count": 21,
   "metadata": {},
   "outputs": [],
   "source": [
    "property_demand = property_demand.withColumn(\"Demand_Category\",\n",
    "                                             when(property_demand[\"booking_count\"] > 1000, \"High Demand\")\n",
    "                                             .otherwise(\"Low Demand\"))"
   ]
  },
  {
   "cell_type": "code",
   "execution_count": 22,
   "metadata": {},
   "outputs": [
    {
     "name": "stderr",
     "output_type": "stream",
     "text": [
      "[Stage 22:==============>                                           (1 + 3) / 4]\r"
     ]
    },
    {
     "name": "stdout",
     "output_type": "stream",
     "text": [
      "+---------------+-------------+---------------+\n",
      "|  property_type|booking_count|Demand_Category|\n",
      "+---------------+-------------+---------------+\n",
      "|      Apartment|       314353|    High Demand|\n",
      "|      Townhouse|         7704|    High Demand|\n",
      "|Bed & Breakfast|         3516|    High Demand|\n",
      "|           Loft|         5934|    High Demand|\n",
      "|     Guesthouse|          206|     Low Demand|\n",
      "|          Villa|          763|     Low Demand|\n",
      "|   Entire Floor|          609|     Low Demand|\n",
      "|    Condominium|        33059|    High Demand|\n",
      "|          House|        59016|    High Demand|\n",
      "|           Boat|          703|     Low Demand|\n",
      "|           null|          582|     Low Demand|\n",
      "|      Camper/RV|           26|     Low Demand|\n",
      "|          Other|          519|     Low Demand|\n",
      "|           Dorm|          365|     Low Demand|\n",
      "+---------------+-------------+---------------+\n",
      "\n"
     ]
    },
    {
     "name": "stderr",
     "output_type": "stream",
     "text": [
      "                                                                                \r"
     ]
    }
   ],
   "source": [
    "property_demand.show()"
   ]
  },
  {
   "cell_type": "code",
   "execution_count": 23,
   "metadata": {},
   "outputs": [],
   "source": [
    "pivot_table = property_demand.groupBy(\"property_type\") \\\n",
    "    .pivot(\"Demand_Category\", [\"High Demand\", \"Low Demand\"]) \\\n",
    "    .agg(count(\"property_type\")) \\\n",
    "    .withColumnRenamed(\"High Demand\", \"IS_High_Demand\") \\\n",
    "    .withColumnRenamed(\"Low Demand\", \"IS_Low_Demand\")"
   ]
  },
  {
   "cell_type": "code",
   "execution_count": 24,
   "metadata": {},
   "outputs": [],
   "source": [
    "pivot_table = pivot_table.withColumn(\"IS_High_Demand\", when(col(\"IS_High_Demand\") > 0, True).otherwise(False))\n",
    "pivot_table = pivot_table.withColumn(\"IS_Low_Demand\", when(col(\"IS_Low_Demand\") > 0, True).otherwise(False))"
   ]
  },
  {
   "cell_type": "code",
   "execution_count": 25,
   "metadata": {},
   "outputs": [
    {
     "name": "stderr",
     "output_type": "stream",
     "text": [
      "[Stage 26:==============>                                           (1 + 3) / 4]\r"
     ]
    },
    {
     "name": "stdout",
     "output_type": "stream",
     "text": [
      "+---------------+--------------+-------------+\n",
      "|  property_type|IS_High_Demand|IS_Low_Demand|\n",
      "+---------------+--------------+-------------+\n",
      "|      Apartment|          true|        false|\n",
      "|      Townhouse|          true|        false|\n",
      "|Bed & Breakfast|          true|        false|\n",
      "|           Loft|          true|        false|\n",
      "|     Guesthouse|         false|         true|\n",
      "|          Villa|         false|         true|\n",
      "|   Entire Floor|         false|         true|\n",
      "|    Condominium|          true|        false|\n",
      "|          House|          true|        false|\n",
      "|           Boat|         false|         true|\n",
      "|      Camper/RV|         false|         true|\n",
      "|          Other|         false|         true|\n",
      "|           Dorm|         false|         true|\n",
      "|           null|         false|        false|\n",
      "+---------------+--------------+-------------+\n",
      "\n"
     ]
    },
    {
     "name": "stderr",
     "output_type": "stream",
     "text": [
      "                                                                                \r"
     ]
    }
   ],
   "source": [
    "pivot_table.show()"
   ]
  },
  {
   "cell_type": "markdown",
   "metadata": {},
   "source": [
    "## PIVOT: How many property are there in each category that have more or less than 50 reviews"
   ]
  },
  {
   "cell_type": "code",
   "execution_count": 26,
   "metadata": {},
   "outputs": [
    {
     "name": "stdout",
     "output_type": "stream",
     "text": [
      "root\n",
      " |-- listing_id: integer (nullable = true)\n",
      " |-- id: integer (nullable = true)\n",
      " |-- date: date (nullable = true)\n",
      " |-- reviewer_id: integer (nullable = true)\n",
      " |-- reviewer_name: string (nullable = true)\n",
      " |-- comments: string (nullable = true)\n",
      "\n"
     ]
    }
   ],
   "source": [
    "reviews_clean.printSchema()"
   ]
  },
  {
   "cell_type": "code",
   "execution_count": 27,
   "metadata": {},
   "outputs": [],
   "source": [
    "reviews_count = reviews_clean.groupBy(\"listing_id\").agg(count(\"*\").alias(\"total_reviews_count\"))"
   ]
  },
  {
   "cell_type": "code",
   "execution_count": 28,
   "metadata": {},
   "outputs": [
    {
     "name": "stdout",
     "output_type": "stream",
     "text": [
      "+----------+-------------------+\n",
      "|listing_id|total_reviews_count|\n",
      "+----------+-------------------+\n",
      "|   7825327|                  9|\n",
      "|   2754975|                 30|\n",
      "|   8165898|                  3|\n",
      "|   4149974|                 70|\n",
      "|   6006328|                 10|\n",
      "|  14322091|                  1|\n",
      "|   5991427|                 23|\n",
      "|  12796034|                  1|\n",
      "|   8536113|                  9|\n",
      "|   6955911|                  5|\n",
      "|  13282275|                  1|\n",
      "|   5783197|                 35|\n",
      "|  13236936|                  1|\n",
      "|   6489209|                 14|\n",
      "|   9169272|                  1|\n",
      "|    979759|                  2|\n",
      "|     31796|                291|\n",
      "|   1178371|                 85|\n",
      "|   1067184|                 53|\n",
      "|   6453686|                 58|\n",
      "+----------+-------------------+\n",
      "only showing top 20 rows\n",
      "\n"
     ]
    },
    {
     "name": "stderr",
     "output_type": "stream",
     "text": [
      "                                                                                \r"
     ]
    }
   ],
   "source": [
    "reviews_count.show()"
   ]
  },
  {
   "cell_type": "code",
   "execution_count": 29,
   "metadata": {},
   "outputs": [],
   "source": [
    "final_df = listing_clean.join(reviews_count, listing_clean[\"id\"] == reviews_count[\"listing_id\"])"
   ]
  },
  {
   "cell_type": "code",
   "execution_count": 30,
   "metadata": {},
   "outputs": [
    {
     "name": "stdout",
     "output_type": "stream",
     "text": [
      "+---------------+------------+---------------+\n",
      "|  property_type|less_than_50|greater_than_50|\n",
      "+---------------+------------+---------------+\n",
      "|      Apartment|        1254|            232|\n",
      "|      Townhouse|          29|              5|\n",
      "|Bed & Breakfast|          19|              9|\n",
      "|           null|           2|              0|\n",
      "|           Loft|          25|              2|\n",
      "|     Guesthouse|           1|              0|\n",
      "|          Villa|           2|              0|\n",
      "|          Other|           8|              0|\n",
      "|           Dorm|           1|              0|\n",
      "|    Condominium|         130|             14|\n",
      "|          House|         283|             97|\n",
      "|           Boat|          11|              0|\n",
      "+---------------+------------+---------------+\n",
      "\n"
     ]
    }
   ],
   "source": [
    "reviews_df = final_df.withColumn('review_category', when(col('number_of_reviews') < 50, 'less_than_50').otherwise('greater_than_50'))\n",
    "\n",
    "# Group by property type and review category, and calculate the count of reviews\n",
    "review_pivot = reviews_df.groupBy('property_type') \\\n",
    "    .pivot('review_category', values=['less_than_50', 'greater_than_50']) \\\n",
    "    .agg(count('id')) \\\n",
    "    .na.fill(0)\n",
    "\n",
    "# Show the result\n",
    "review_pivot.show()"
   ]
  }
 ],
 "metadata": {
  "kernelspec": {
   "display_name": "venv",
   "language": "python",
   "name": "python3"
  },
  "language_info": {
   "codemirror_mode": {
    "name": "ipython",
    "version": 3
   },
   "file_extension": ".py",
   "mimetype": "text/x-python",
   "name": "python",
   "nbconvert_exporter": "python",
   "pygments_lexer": "ipython3",
   "version": "3.10.12"
  },
  "orig_nbformat": 4
 },
 "nbformat": 4,
 "nbformat_minor": 2
}
