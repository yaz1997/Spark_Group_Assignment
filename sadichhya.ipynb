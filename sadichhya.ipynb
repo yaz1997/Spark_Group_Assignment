{
 "cells": [
  {
   "cell_type": "code",
   "execution_count": 1,
   "metadata": {},
   "outputs": [],
   "source": [
    "from pyspark.sql import SparkSession\n",
    "from pyspark.sql.functions import when, col, avg,udf, month,max, datediff, lit, to_date,count, rank\n",
    "from pyspark.sql.window import Window\n",
    "from pyspark.sql.types import StringType\n"
   ]
  },
  {
   "cell_type": "code",
   "execution_count": 2,
   "metadata": {},
   "outputs": [
    {
     "name": "stderr",
     "output_type": "stream",
     "text": [
      "23/09/06 10:22:34 WARN Utils: Your hostname, ubuntu-Lenovo-Legion-5-15ARH05 resolves to a loopback address: 127.0.1.1; using 172.16.5.112 instead (on interface wlp4s0)\n",
      "23/09/06 10:22:34 WARN Utils: Set SPARK_LOCAL_IP if you need to bind to another address\n",
      "Setting default log level to \"WARN\".\n",
      "To adjust logging level use sc.setLogLevel(newLevel). For SparkR, use setLogLevel(newLevel).\n",
      "23/09/06 10:22:35 WARN NativeCodeLoader: Unable to load native-hadoop library for your platform... using builtin-java classes where applicable\n"
     ]
    }
   ],
   "source": [
    "# Initialize a Spark session\n",
    "spark = SparkSession.builder.appName(\"DataTransformation\").getOrCreate()"
   ]
  },
  {
   "cell_type": "markdown",
   "metadata": {},
   "source": [
    "**Reading csv**\n"
   ]
  },
  {
   "cell_type": "code",
   "execution_count": 3,
   "metadata": {},
   "outputs": [
    {
     "name": "stderr",
     "output_type": "stream",
     "text": [
      "                                                                                \r"
     ]
    }
   ],
   "source": [
    "#reading csv file\n",
    "listing_df = spark.read.csv('cleaned_data/clean_listing_csv/', header=True, inferSchema=True)\n",
    "review_df = spark.read.csv('cleaned_data/clean_reviews_csv/', header=True, inferSchema=True)\n",
    "calender_df = spark.read.csv('cleaned_data/clean0_calendar_csv/', header=True, inferSchema=True)\n"
   ]
  },
  {
   "cell_type": "markdown",
   "metadata": {},
   "source": [
    "Question 1: Listings with the Highest Average Price:\n",
    "Using groupBy and orderBy, find the top 10 listings in Boston with the highest average price per night. Rename the columns to \"Listing ID\" and \"Average Price.\"\n"
   ]
  },
  {
   "cell_type": "code",
   "execution_count": 21,
   "metadata": {},
   "outputs": [
    {
     "name": "stdout",
     "output_type": "stream",
     "text": [
      "+--------------------+------------------+\n",
      "|                city|     Average Price|\n",
      "+--------------------+------------------+\n",
      "|    South End Boston|           45000.0|\n",
      "|             ALLSTON|           29500.0|\n",
      "|         Charlestown|27164.285714285714|\n",
      "|           Cambridge|           21200.0|\n",
      "|   Roslindale Boston|           20000.0|\n",
      "|       Jamaica Plain|18441.176470588234|\n",
      "|              Boston|18248.658843252306|\n",
      "|         East Boston|           16950.0|\n",
      "|Jamaica Plain (Bo...|           15000.0|\n",
      "|           Brookline|14784.615384615385|\n",
      "+--------------------+------------------+\n",
      "\n"
     ]
    }
   ],
   "source": [
    "\n",
    "# Group by listing ID and calculate the average price per night\n",
    "average_price_df = listing_df.groupBy('city').agg(avg('price').alias('Average Price'))\n",
    "\n",
    "# Order by average price in descending order and select the top 10\n",
    "top_10_listings = average_price_df.orderBy(col('Average Price').desc()).limit(10)\n",
    "\n",
    "# Rename the columns\n",
    "top_10_listings = top_10_listings.withColumnRenamed('id', 'Listing_ID')\n",
    "\n",
    "# Show the result\n",
    "top_10_listings.show()"
   ]
  },
  {
   "cell_type": "markdown",
   "metadata": {},
   "source": [
    "Question 2:  UDF for Room Type Analysis: Create a UDF to categorize listings based on their room type and whether they are hosted by superhosts. Apply this UDF to listings_df to analyze room type preferences among superhosts."
   ]
  },
  {
   "cell_type": "code",
   "execution_count": 30,
   "metadata": {},
   "outputs": [
    {
     "name": "stdout",
     "output_type": "stream",
     "text": [
      "+--------------------+-----+\n",
      "|  room_type_category|count|\n",
      "+--------------------+-----+\n",
      "|Superhost - Entir...|  190|\n",
      "|Non-Superhost - P...|  740|\n",
      "|Superhost - Priva...|  149|\n",
      "|Non-Superhost - E...| 1397|\n",
      "|Superhost - Share...|    8|\n",
      "|Non-Superhost - S...|   44|\n",
      "+--------------------+-----+\n",
      "\n"
     ]
    }
   ],
   "source": [
    "# Define the UDF to categorize listings\n",
    "def categorize_room_type(is_superhost, room_type):\n",
    "    if is_superhost:\n",
    "        return f'Superhost - {room_type}'\n",
    "    else:\n",
    "        return f'Non-Superhost - {room_type}'\n",
    "\n",
    "# Register the UDF\n",
    "categorize_room_udf = udf(categorize_room_type, StringType())\n",
    "\n",
    "# Apply the UDF to listings_df\n",
    "listing_df_2 = listing_df.withColumn(\n",
    "    'room_type_category',\n",
    "    categorize_room_udf(col('host_is_superhost'), col('room_type'))\n",
    ")\n",
    "\n",
    "# Analyze room type preferences among superhosts\n",
    "room_type_preferences = listing_df_2.groupBy('room_type_category').count()\n",
    "\n",
    "# Show the result\n",
    "room_type_preferences.show()"
   ]
  },
  {
   "cell_type": "markdown",
   "metadata": {},
   "source": [
    "Question 3: To create a User-Defined Function (UDF) that converts extracted months from integers to their corresponding month names"
   ]
  },
  {
   "cell_type": "code",
   "execution_count": 7,
   "metadata": {},
   "outputs": [
    {
     "name": "stdout",
     "output_type": "stream",
     "text": [
      "+----------+----------+---------+-----+----------+\n",
      "|listing_id|      date|available|price|month_name|\n",
      "+----------+----------+---------+-----+----------+\n",
      "|  12147973|2017-09-05|    false| null|       Sep|\n",
      "|  12147973|2017-09-04|    false| null|       Sep|\n",
      "|  12147973|2017-09-03|    false| null|       Sep|\n",
      "|  12147973|2017-09-02|    false| null|       Sep|\n",
      "|  12147973|2017-09-01|    false| null|       Sep|\n",
      "|  12147973|2017-08-31|    false| null|       Aug|\n",
      "|  12147973|2017-08-30|    false| null|       Aug|\n",
      "|  12147973|2017-08-29|    false| null|       Aug|\n",
      "|  12147973|2017-08-28|    false| null|       Aug|\n",
      "|  12147973|2017-08-27|    false| null|       Aug|\n",
      "|  12147973|2017-08-26|    false| null|       Aug|\n",
      "|  12147973|2017-08-25|    false| null|       Aug|\n",
      "|  12147973|2017-08-24|    false| null|       Aug|\n",
      "|  12147973|2017-08-23|    false| null|       Aug|\n",
      "|  12147973|2017-08-22|    false| null|       Aug|\n",
      "|  12147973|2017-08-21|    false| null|       Aug|\n",
      "|  12147973|2017-08-20|    false| null|       Aug|\n",
      "|  12147973|2017-08-19|    false| null|       Aug|\n",
      "|  12147973|2017-08-18|    false| null|       Aug|\n",
      "|  12147973|2017-08-17|    false| null|       Aug|\n",
      "+----------+----------+---------+-----+----------+\n",
      "only showing top 20 rows\n",
      "\n"
     ]
    }
   ],
   "source": [
    "# Define a UDF to convert month integers to month names\n",
    "def int_to_month_name(month_int):\n",
    "    month_names = [\"Jan\", \"Feb\", \"Mar\", \"Apr\", \"May\", \"Jun\", \"Jul\", \"Aug\", \"Sep\", \"Oct\", \"Nov\", \"Dec\"]\n",
    "    return month_names[month_int - 1] if 1 <= month_int <= 12 else None\n",
    "\n",
    "# Register the UDF with Spark\n",
    "month_name_udf = udf(int_to_month_name, StringType())\n",
    "\n",
    "# Apply the UDF to the DataFrame to create a new column\n",
    "df_with_month_name = calender_df.withColumn(\"month_name\", month_name_udf(month(col('date'))))\n",
    "\n",
    "# Show the result\n",
    "df_with_month_name.show()\n"
   ]
  },
  {
   "cell_type": "markdown",
   "metadata": {},
   "source": [
    "Question 3 - Busiest Booking Month:\n",
    "Using the date column in the calendar_df, determine which month in Boston had the highest number of bookings. We can use aggregation functions like groupBy and count.\n"
   ]
  },
  {
   "cell_type": "code",
   "execution_count": 9,
   "metadata": {},
   "outputs": [
    {
     "name": "stderr",
     "output_type": "stream",
     "text": [
      "[Stage 21:>                                                         (0 + 9) / 9]\r"
     ]
    },
    {
     "name": "stdout",
     "output_type": "stream",
     "text": [
      "The busiest booking month in Boston is month Sep with 50042 bookings.\n"
     ]
    },
    {
     "name": "stderr",
     "output_type": "stream",
     "text": [
      "                                                                                \r"
     ]
    }
   ],
   "source": [
    "# Filter for Boston listings (you can adjust the city name as needed)\n",
    "boston_calendar = calender_df.join(listing_df, calender_df.listing_id == listing_df.id, \"inner\")\n",
    "\n",
    "# Extract the month from the 'date' column\n",
    "boston_calendar = boston_calendar.withColumn('booking_month', month_name_udf(month(col('date'))))\n",
    "# Filter the DataFrame to include only rows where \"available\" is False\n",
    "booked_calendar = boston_calendar.filter(col('available') == 'False')\n",
    "\n",
    "# Group by the booking month and count the number of bookings\n",
    "booking_counts = booked_calendar.groupBy('booking_month').count()\n",
    "\n",
    "# Find the month with the highest number of bookings\n",
    "busiest_month = booking_counts.orderBy(col('count').desc()).first()\n",
    "\n",
    "# Show the result\n",
    "print(f\"The busiest booking month in Boston is month {busiest_month['booking_month']} with {busiest_month['count']} bookings.\")"
   ]
  },
  {
   "cell_type": "markdown",
   "metadata": {},
   "source": [
    "Question 4: Calculate the number of days since the last booking for each listing in Boston. Use a Window Function to find listings that have been vacant for the longest period.\n"
   ]
  },
  {
   "cell_type": "code",
   "execution_count": 18,
   "metadata": {},
   "outputs": [
    {
     "name": "stderr",
     "output_type": "stream",
     "text": [
      "[Stage 25:===================>                                      (3 + 6) / 9]\r"
     ]
    },
    {
     "name": "stdout",
     "output_type": "stream",
     "text": [
      "+----------+----------+----------+-----------------------+\n",
      "|listing_id|      date|  max_date|days_since_last_booking|\n",
      "+----------+----------+----------+-----------------------+\n",
      "|      3353|2016-12-30|2016-12-30|                      0|\n",
      "|      3353|2016-12-29|2016-12-30|                      1|\n",
      "|      3353|2016-12-28|2016-12-30|                      2|\n",
      "|      3353|2016-12-27|2016-12-30|                      3|\n",
      "|      3353|2016-12-26|2016-12-30|                      4|\n",
      "|      3353|2016-12-25|2016-12-30|                      5|\n",
      "|      3353|2016-12-24|2016-12-30|                      6|\n",
      "|      3353|2016-12-23|2016-12-30|                      7|\n",
      "|      3353|2016-12-22|2016-12-30|                      8|\n",
      "|      3353|2016-12-21|2016-12-30|                      9|\n",
      "|      3353|2016-12-20|2016-12-30|                     10|\n",
      "|      3353|2016-12-19|2016-12-30|                     11|\n",
      "|      3353|2016-12-18|2016-12-30|                     12|\n",
      "|      3353|2016-12-17|2016-12-30|                     13|\n",
      "|      3353|2016-12-16|2016-12-30|                     14|\n",
      "|      3353|2016-12-15|2016-12-30|                     15|\n",
      "|      3353|2016-12-14|2016-12-30|                     16|\n",
      "|      3353|2016-12-13|2016-12-30|                     17|\n",
      "|      3353|2016-12-12|2016-12-30|                     18|\n",
      "|      3353|2016-12-11|2016-12-30|                     19|\n",
      "+----------+----------+----------+-----------------------+\n",
      "only showing top 20 rows\n",
      "\n"
     ]
    },
    {
     "name": "stderr",
     "output_type": "stream",
     "text": [
      "                                                                                \r"
     ]
    }
   ],
   "source": [
    "# Filter calendar_df to include only Boston listings\n",
    "boston_calendar = calender_df.join(listing_df.select('id'), calender_df.listing_id == listing_df.id, \"inner\")\n",
    "booked_calendar = boston_calendar.filter(col('available') == 'False')\n",
    "\n",
    "# # Calculate the maximum date for each listing\n",
    "window_spec = Window.partitionBy('listing_id').orderBy(col('date').desc())\n",
    "max_date_df = booked_calendar.select('listing_id', 'date').withColumn('max_date', max('date').over(window_spec))\n",
    "\n",
    "# min_date_df = max_date_df.select('listing_id', 'date','max_date').withColumn('min_date', min('date').over(window_spec))\n",
    "\n",
    "\n",
    "# # # Get the maximum date as a separate variable\n",
    "# max_date = max_date_df.select(max_date_df['max_date']).first()[0]\n",
    "\n",
    "# # Calculate the number of days since the last booking\n",
    "vacant_listings = max_date_df.withColumn('days_since_last_booking', datediff(col('max_date'), col('date')))\n",
    "\n",
    "# # Show the result\n",
    "vacant_listings.show()"
   ]
  },
  {
   "cell_type": "markdown",
   "metadata": {},
   "source": [
    "Question 5 - find the top 5 hosts in Boston with the highest average nightly price for their listings, along with the number of reviews they've received and the average number of bathrooms for their listings,"
   ]
  },
  {
   "cell_type": "code",
   "execution_count": 80,
   "metadata": {},
   "outputs": [
    {
     "name": "stdout",
     "output_type": "stream",
     "text": [
      "+---------+-----------------+-------------+-------------+\n",
      "|host_name|avg_nightly_price|total_reviews|avg_bathrooms|\n",
      "+---------+-----------------+-------------+-------------+\n",
      "| Vladimir|         400000.0|            1|          1.0|\n",
      "|   Nastia|         125000.0|            1|          1.0|\n",
      "|    Stacy|          80000.0|            1|          2.5|\n",
      "|   Hylton|          75000.0|            1|          3.5|\n",
      "|   Lively|          75000.0|            1|          1.0|\n",
      "+---------+-----------------+-------------+-------------+\n",
      "\n"
     ]
    },
    {
     "name": "stderr",
     "output_type": "stream",
     "text": [
      "23/09/05 17:10:04 WARN WindowExec: No Partition Defined for Window operation! Moving all data to a single partition, this can cause serious performance degradation.\n",
      "23/09/05 17:10:04 WARN WindowExec: No Partition Defined for Window operation! Moving all data to a single partition, this can cause serious performance degradation.\n",
      "23/09/05 17:10:04 WARN WindowExec: No Partition Defined for Window operation! Moving all data to a single partition, this can cause serious performance degradation.\n",
      "23/09/05 17:10:04 WARN WindowExec: No Partition Defined for Window operation! Moving all data to a single partition, this can cause serious performance degradation.\n",
      "23/09/05 17:10:04 WARN WindowExec: No Partition Defined for Window operation! Moving all data to a single partition, this can cause serious performance degradation.\n",
      "23/09/05 17:10:04 WARN WindowExec: No Partition Defined for Window operation! Moving all data to a single partition, this can cause serious performance degradation.\n",
      "23/09/05 17:10:04 WARN WindowExec: No Partition Defined for Window operation! Moving all data to a single partition, this can cause serious performance degradation.\n"
     ]
    }
   ],
   "source": [
    "# Filter listings for Boston\n",
    "boston_listings = listing_df.filter(col('city') == 'Boston')\n",
    "\n",
    "# Calculate the average nightly price for each listing and the total number of reviews for each host\n",
    "listing_avg_price_reviews = boston_listings.groupBy('host_name').agg(\n",
    "    avg(col('price').cast(\"float\")).alias('avg_nightly_price'),\n",
    "    count('number_of_reviews').alias('total_reviews'),\n",
    "    avg(col('bathrooms')).alias('avg_bathrooms')  # Calculate the average number of bathrooms\n",
    ")\n",
    "\n",
    "# Use window functions to rank hosts by average nightly price\n",
    "window_spec = Window.orderBy(col('avg_nightly_price').desc())\n",
    "ranked_hosts = listing_avg_price_reviews.withColumn('rank', rank().over(window_spec))\n",
    "\n",
    "# Filter and select the top 5 hosts with the highest average nightly price\n",
    "top_5_hosts = ranked_hosts.filter(col('rank') <= 5).select('host_name', 'avg_nightly_price', 'total_reviews', 'avg_bathrooms')\n",
    "\n",
    "# Show the result\n",
    "top_5_hosts.show()"
   ]
  },
  {
   "cell_type": "markdown",
   "metadata": {},
   "source": [
    "\n",
    "Question 6 - Superhosts by Property Type:\n",
    "Pivot the data to create a table that shows the count of superhosts and non-superhosts for each property type in Boston. Rows represent property types, and columns represent counts of superhosts and non-superhosts."
   ]
  },
  {
   "cell_type": "code",
   "execution_count": 86,
   "metadata": {},
   "outputs": [
    {
     "name": "stdout",
     "output_type": "stream",
     "text": [
      "+---------------+---------------+-------------------+\n",
      "|  property_type|Superhost Count|Non-Superhost Count|\n",
      "+---------------+---------------+-------------------+\n",
      "|      Apartment|            205|               1529|\n",
      "|      Townhouse|             11|                 24|\n",
      "|Bed & Breakfast|              8|                 23|\n",
      "|           null|              0|                  2|\n",
      "|           Loft|              5|                 21|\n",
      "|     Guesthouse|              0|                  1|\n",
      "|          Villa|              1|                  2|\n",
      "|   Entire Floor|              0|                  2|\n",
      "|          Other|              2|                 10|\n",
      "|           Dorm|              0|                  1|\n",
      "|    Condominium|             21|                137|\n",
      "|          House|             65|                304|\n",
      "|           Boat|              1|                 11|\n",
      "+---------------+---------------+-------------------+\n",
      "\n"
     ]
    }
   ],
   "source": [
    "# Filter listings for Boston\n",
    "boston_listings = listing_df.filter(col('city') == 'Boston')\n",
    "\n",
    "# Pivot the data to count superhosts and non-superhosts for each property type\n",
    "pivot_table = boston_listings.groupBy('property_type') \\\n",
    "    .pivot('host_is_superhost', ['True', 'False']) \\\n",
    "    .count() \\\n",
    "    .fillna(0)\n",
    "\n",
    "# Rename the columns for clarity\n",
    "pivot_table = pivot_table.withColumnRenamed('True', 'Superhost Count') \\\n",
    "    .withColumnRenamed('False', 'Non-Superhost Count')\n",
    "\n",
    "# Show the result\n",
    "pivot_table.show()\n"
   ]
  }
 ],
 "metadata": {
  "kernelspec": {
   "display_name": "venv",
   "language": "python",
   "name": "python3"
  },
  "language_info": {
   "codemirror_mode": {
    "name": "ipython",
    "version": 3
   },
   "file_extension": ".py",
   "mimetype": "text/x-python",
   "name": "python",
   "nbconvert_exporter": "python",
   "pygments_lexer": "ipython3",
   "version": "3.10.12"
  },
  "orig_nbformat": 4
 },
 "nbformat": 4,
 "nbformat_minor": 2
}
